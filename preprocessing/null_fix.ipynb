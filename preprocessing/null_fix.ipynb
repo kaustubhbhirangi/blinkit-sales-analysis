{
 "cells": [
  {
   "cell_type": "markdown",
   "id": "618b69f4-4249-4170-9b91-1538260d20bc",
   "metadata": {},
   "source": [
    "**Replace empty cells of .csv with the word \"NULL\"**"
   ]
  },
  {
   "cell_type": "code",
   "execution_count": 4,
   "id": "f78d0ed7-b49e-48eb-ab2c-bdb0d32a96ef",
   "metadata": {},
   "outputs": [
    {
     "name": "stdin",
     "output_type": "stream",
     "text": [
      "Enter a name to save the cleaned file (e.g., cleaned_data.csv):  9999\n"
     ]
    },
    {
     "name": "stdout",
     "output_type": "stream",
     "text": [
      "File saved at: C:\\Users\\kaust\\Desktop\\SQL Projects\\Blinkit\\CSV\\9999.csv\n"
     ]
    }
   ],
   "source": [
    "import pandas as pd\n",
    "\n",
    "# Load the CSV file\n",
    "df = pd.read_csv('C:/Users/kaust/Desktop/SQL Projects/Blinkit/CSV/BlinkIT-Grocery-Data.csv')\n",
    "\n",
    "# Replace empty cells with \"NULL\"\n",
    "df = df.fillna(\"NULL\")\n",
    "\n",
    "# Ask user for file name\n",
    "file_name = input(\"Enter a name to save the cleaned file (e.g., cleaned_data.csv): \")\n",
    "\n",
    "# Make sure the file name ends with .csv\n",
    "if not file_name.endswith(\".csv\"):\n",
    "    file_name += \".csv\"\n",
    "\n",
    "# Save the file in the same folder\n",
    "save_path = rf\"C:\\Users\\kaust\\Desktop\\SQL Projects\\Blinkit\\CSV\\{file_name}\"\n",
    "df.to_csv(save_path, index=False)\n",
    "\n",
    "print(f\"File saved at: {save_path}\")\n"
   ]
  }
 ],
 "metadata": {
  "kernelspec": {
   "display_name": "Python 3 (ipykernel)",
   "language": "python",
   "name": "python3"
  },
  "language_info": {
   "codemirror_mode": {
    "name": "ipython",
    "version": 3
   },
   "file_extension": ".py",
   "mimetype": "text/x-python",
   "name": "python",
   "nbconvert_exporter": "python",
   "pygments_lexer": "ipython3",
   "version": "3.10.16"
  }
 },
 "nbformat": 4,
 "nbformat_minor": 5
}
